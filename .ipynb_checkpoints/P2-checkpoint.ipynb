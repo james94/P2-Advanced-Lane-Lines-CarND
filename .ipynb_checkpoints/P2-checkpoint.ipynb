{
 "cells": [
  {
   "cell_type": "markdown",
   "metadata": {},
   "source": [
    "# Finding Lane Curvature and Vehicle Position"
   ]
  },
  {
   "cell_type": "code",
   "execution_count": 1,
   "metadata": {
    "scrolled": true
   },
   "outputs": [
    {
     "ename": "ModuleNotFoundError",
     "evalue": "No module named 'cv2'",
     "output_type": "error",
     "traceback": [
      "\u001b[0;31m---------------------------------------------------------------------------\u001b[0m",
      "\u001b[0;31mModuleNotFoundError\u001b[0m                       Traceback (most recent call last)",
      "\u001b[0;32m<ipython-input-1-815dc81030fc>\u001b[0m in \u001b[0;36m<module>\u001b[0;34m\u001b[0m\n\u001b[1;32m      7\u001b[0m \u001b[0;32mimport\u001b[0m \u001b[0msys\u001b[0m\u001b[0;34m\u001b[0m\u001b[0;34m\u001b[0m\u001b[0m\n\u001b[1;32m      8\u001b[0m \u001b[0;31m#sys.path.append(\"/home/car/anaconda/envs/cv/lib/python3.7/site-packages\")\u001b[0m\u001b[0;34m\u001b[0m\u001b[0;34m\u001b[0m\u001b[0;34m\u001b[0m\u001b[0m\n\u001b[0;32m----> 9\u001b[0;31m \u001b[0;32mimport\u001b[0m \u001b[0mcv2\u001b[0m\u001b[0;34m\u001b[0m\u001b[0;34m\u001b[0m\u001b[0m\n\u001b[0m\u001b[1;32m     10\u001b[0m \u001b[0;32mimport\u001b[0m \u001b[0mglob\u001b[0m\u001b[0;34m\u001b[0m\u001b[0;34m\u001b[0m\u001b[0m\n\u001b[1;32m     11\u001b[0m \u001b[0;32mimport\u001b[0m \u001b[0mpickle\u001b[0m\u001b[0;34m\u001b[0m\u001b[0;34m\u001b[0m\u001b[0m\n",
      "\u001b[0;31mModuleNotFoundError\u001b[0m: No module named 'cv2'"
     ]
    }
   ],
   "source": [
    "#importing some useful packages\n",
    "import matplotlib.pyplot as plt\n",
    "import matplotlib.image as mpimg\n",
    "import matplotlib.animation as animation\n",
    "import numpy as np\n",
    "import pathlib\n",
    "import sys\n",
    "sys.path.append(\"/home/car/anaconda/envs/cv/lib/python3.7/site-packages\")\n",
    "import cv2\n",
    "import glob\n",
    "import pickle"
   ]
  },
  {
   "cell_type": "code",
   "execution_count": null,
   "metadata": {},
   "outputs": [],
   "source": [
    "from lib.cv.CameraCalibration import CameraCalibration\n",
    "from lib.cv.GradientThresholds import GradientThresholds\n",
    "# from lib.cv import ColorThresholds\n",
    "%matplotlib inline"
   ]
  },
  {
   "cell_type": "markdown",
   "metadata": {},
   "source": [
    "## Lane Curvature Pipeline Algorithm"
   ]
  },
  {
   "cell_type": "markdown",
   "metadata": {},
   "source": [
    "1\\. **Compute camera calibration matrix and distortion coefficients given a set of chessboard images** using **CameraCalibration** class's `cmpt_mtx_and_dist_coeffs()` method.\n",
    "\n",
    "2\\. **Apply distortion correction to raw images** using **CameraCalibration** class's `correct_distortion()` method. First test undistortion on a raw chessboard image and visualize it. Then test undistortion on a raw curved lane line image and visualize it.\n",
    "\n",
    "3\\. **Use color transforms, gradients, etc., to create a threshold binary image**."
   ]
  },
  {
   "cell_type": "markdown",
   "metadata": {},
   "source": [
    "## 1. Compute Camera Calibration Matrix and Distortion Coefficients Given a Set of Chessboard Images "
   ]
  },
  {
   "cell_type": "code",
   "execution_count": null,
   "metadata": {},
   "outputs": [],
   "source": [
    "nx_corners = 9\n",
    "ny_corners = 6\n",
    "# Choose a directory with camera images of 9x6 chessboards\n",
    "cam_cal_chess_dfp = \"camera_cal/calibration*.jpg\"\n",
    "smart_car_cam = CameraCalibration(nx_corners, ny_corners, cam_cal_chess_dfp)\n",
    "\n",
    "# Compute camera calibration matrix and distortion coefficients via a set of chessboard images\n",
    "src_img_fp = \"camera_cal/calibration3.jpg\"\n",
    "cal_mtx, dist_coeff = smart_car_cam.cmpt_mtx_and_dist_coeffs(src_img_fp)"
   ]
  },
  {
   "cell_type": "markdown",
   "metadata": {},
   "source": [
    "## 2. Apply Distortion Correction to Raw Images"
   ]
  },
  {
   "cell_type": "markdown",
   "metadata": {},
   "source": [
    "### 2A. Correct Distortion on a Raw Chessboard Image"
   ]
  },
  {
   "cell_type": "code",
   "execution_count": null,
   "metadata": {},
   "outputs": [],
   "source": [
    "# Apply Distortion Correction to a raw chessboard image\n",
    "chess_dist_img, chess_undist_img = smart_car_cam.correct_distortion(src_img_fp, cal_mtx, dist_coeff)\n",
    "\n",
    "# Save Undistorted Chessboard Image\n",
    "dst_img_fp = \"camera_cal/chess_undist3\" # image extension will be added in below function\n",
    "smart_car_cam.save_undistorted_img(dst_img_fp, chess_undist_img, cal_mtx, dist_coeff)"
   ]
  },
  {
   "cell_type": "markdown",
   "metadata": {},
   "source": [
    "### Visualize Distortion Correction of Chessboard Image"
   ]
  },
  {
   "cell_type": "code",
   "execution_count": null,
   "metadata": {},
   "outputs": [],
   "source": [
    "# Visualize Chessboard Image from Distorted and Undistorted \n",
    "smart_car_cam.visualize_undistortion(chess_dist_img, chess_undist_img)"
   ]
  },
  {
   "cell_type": "markdown",
   "metadata": {},
   "source": [
    "### 2B. Correct Distortion on a Raw Curved Lane Line Image"
   ]
  },
  {
   "cell_type": "code",
   "execution_count": null,
   "metadata": {},
   "outputs": [],
   "source": [
    "# Apply Distortion Correction to a raw curved lane line image\n",
    "src_img_fp = \"test_images/test1.jpg\"\n",
    "curved_dist_img, curved_undist_img = smart_car_cam.correct_distortion(src_img_fp, cal_mtx, dist_coeff)\n",
    "\n",
    "# Save Undistorted Curved Lane Line Image\n",
    "dst_img_fp = \"test_images/curved_lane_undist1\" # image extension will be added in below function\n",
    "smart_car_cam.save_undistorted_img(dst_img_fp, curved_undist_img, cal_mtx, dist_coeff)"
   ]
  },
  {
   "cell_type": "markdown",
   "metadata": {},
   "source": [
    "### Visualize Distortion Correction of Curved Lane Line Image"
   ]
  },
  {
   "cell_type": "code",
   "execution_count": null,
   "metadata": {},
   "outputs": [],
   "source": [
    "# Visualize Chessboard Image from Distorted and Undistorted \n",
    "smart_car_cam.visualize_undistortion(curved_dist_img, curved_undist_img)"
   ]
  },
  {
   "cell_type": "markdown",
   "metadata": {},
   "source": [
    "## 3. Use Color Transforms, Gradients, etc. to Create a Thesholded Binary Image"
   ]
  },
  {
   "cell_type": "markdown",
   "metadata": {},
   "source": [
    "### Apply X-Sobel Orientation Derivative Thresholding\n",
    "\n",
    "Identifies pixels where the gradient of an image falls within a specified threshold range. \n",
    "Can also take the Y-Sobel, but found X-Sobel to be better at picking up lane lines."
   ]
  },
  {
   "cell_type": "code",
   "execution_count": null,
   "metadata": {},
   "outputs": [],
   "source": [
    "# Applies Gradient Thresholding to Undistorted Car Camera Images\n",
    "orient = 'x'\n",
    "thresh_min = 20\n",
    "thresh_max = 100\n",
    "gradient_car_cam = GradientThresholds(curved_undist_img)\n",
    "grad_binary_img = gradient_car_cam.apply_sobel_thresh(curved_undist_img, orient, thresh_min, thresh_max)\n",
    "# Visualizes a figure with undistorted image and gradient thresholded image\n",
    "thresh_img_title = 'Thresholded x-derivative'\n",
    "gradient_car_cam.visualize_thresholded_img(curved_undist_img, grad_binary_img, thresh_img_title)"
   ]
  },
  {
   "cell_type": "markdown",
   "metadata": {},
   "source": [
    "### Apply Both X and Y Gradient Magnitude Thresholding\n",
    "\n",
    "This thresholding can be done over larger regions to smooth over noisy intensity \n",
    "fluctuations on small scales"
   ]
  },
  {
   "cell_type": "code",
   "execution_count": null,
   "metadata": {},
   "outputs": [],
   "source": [
    "sobel_kernel = 9\n",
    "mag_thresh = (30, 100)\n",
    "grad_mag_binary_img = gradient_car_cam.apply_grad_mag_thresh(curved_undist_img, sobel_kernel, mag_thresh)\n",
    "# Visualizes a figure with undistorted image and gradient magnitude thresholded image\n",
    "thresh_img_title = 'Thresholded Magnitude'\n",
    "gradient_car_cam.visualize_thresholded_img(curved_undist_img, grad_mag_binary_img, thresh_img_title)"
   ]
  },
  {
   "cell_type": "markdown",
   "metadata": {},
   "source": [
    "### Apply Gradient Direction Thresholding\n",
    "\n",
    "This thresholding is useful for picking up edges of a particular orientation."
   ]
  },
  {
   "cell_type": "code",
   "execution_count": null,
   "metadata": {},
   "outputs": [],
   "source": [
    "sobel_kernel = 15\n",
    "dir_thresh = (0.7, 1.3)\n",
    "dir_binary_img = gradient_car_cam.apply_grad_dir_thresh(curved_undist_img, sobel_kernel, dir_thresh)\n",
    "# Visualizes a figure with undistorted image and gradient direction thresholded image\n",
    "thresh_img_title = 'Thresholded Grad. Dir.'\n",
    "gradient_car_cam.visualize_thresholded_img(curved_undist_img, dir_binary_img, thresh_img_title)"
   ]
  },
  {
   "cell_type": "markdown",
   "metadata": {},
   "source": [
    "## Calculating Lane Curvature"
   ]
  },
  {
   "cell_type": "code",
   "execution_count": null,
   "metadata": {},
   "outputs": [],
   "source": [
    "# Driving on a highway, you take a look at the road in front of you \n",
    "# and the cars around you. You press the gas or break to go with the flow and\n",
    "# based on how much the lane is curving left or right, you curve the steering\n",
    "# wheel to stay in that lane.\n",
    "\n",
    "# How does this work for a self-driving car?\n",
    "# Self-Driving cars need to be told the correct steer angle to turn left or \n",
    "# right. We can calculate this angle if we know the speed and dynamics\n",
    "# of the car and how much the lane is curving.\n",
    "\n",
    "# To Determine the Lane Curvature:\n",
    "# 1. Detect the Lane Lines using Masking and Thresholding techniques\n",
    "# 2. Perform a Perspective Transform to get a bird's eye view of the lane\n",
    "# (which let's us fit a polynomial to the lane lines)\n",
    "# 3. Extract Lane Curvature from this polynomial using Math\n",
    "\n",
    "# Lane Curvature Line Fittign Equation:\n",
    "# f(y) = Ay^2 + By + C\n",
    "# A gives curvature of lane line\n",
    "# B gives heading or direction line is pointing\n",
    "# C gives position of line based on how far away it is from left of an image (y = 0)\n",
    "\n"
   ]
  }
 ],
 "metadata": {
  "kernelspec": {
   "display_name": "Python 3",
   "language": "python",
   "name": "python3"
  },
  "language_info": {
   "codemirror_mode": {
    "name": "ipython",
    "version": 3
   },
   "file_extension": ".py",
   "mimetype": "text/x-python",
   "name": "python",
   "nbconvert_exporter": "python",
   "pygments_lexer": "ipython3",
   "version": "3.7.1"
  }
 },
 "nbformat": 4,
 "nbformat_minor": 2
}
